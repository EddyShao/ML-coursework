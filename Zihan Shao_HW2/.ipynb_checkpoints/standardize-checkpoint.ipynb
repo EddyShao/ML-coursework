{
 "cells": [
  {
   "cell_type": "markdown",
   "id": "selected-score",
   "metadata": {},
   "source": [
    "## 3.1 Normalizing features"
   ]
  },
  {
   "cell_type": "code",
   "execution_count": 1,
   "id": "desperate-gender",
   "metadata": {},
   "outputs": [],
   "source": [
    "import pickle\n",
    "import pandas as pd\n",
    "import numpy as np"
   ]
  },
  {
   "cell_type": "code",
   "execution_count": 13,
   "id": "copyrighted-cooperation",
   "metadata": {},
   "outputs": [],
   "source": [
    "def get_mean(x):\n",
    "    return sum(x)/len(x)"
   ]
  },
  {
   "cell_type": "code",
   "execution_count": 14,
   "id": "returning-hundred",
   "metadata": {},
   "outputs": [],
   "source": [
    "def get_std(x, mean):\n",
    "    return ( (x-mean).dot(x-mean) / len(x) )**0.5"
   ]
  },
  {
   "cell_type": "code",
   "execution_count": 15,
   "id": "expired-dispatch",
   "metadata": {},
   "outputs": [],
   "source": [
    "def get_mean_and_std(x):\n",
    "    mean = get_mean(x)\n",
    "    std = get_std(x, mean)\n",
    "    return mean, std"
   ]
  },
  {
   "cell_type": "code",
   "execution_count": 61,
   "id": "selected-majority",
   "metadata": {},
   "outputs": [],
   "source": [
    "def normalization(x, mean, std):\n",
    "    return ( x - mean )/std"
   ]
  },
  {
   "cell_type": "code",
   "execution_count": 83,
   "id": "promotional-delay",
   "metadata": {},
   "outputs": [],
   "source": [
    "def proc_data(data_path):\n",
    "    \"\"\"\n",
    "    standardize the housing data and output it to an external file 'normalized.txt'\n",
    "    \"\"\"\n",
    "    # standardize the housing data, save the normalized data to 'normalized.txt'\n",
    "    ## to do\n",
    "    data = np.genfromtxt(data_path, delimiter=\",\", dtype=\"int\")\n",
    "    \n",
    "    area = data[:, 0]\n",
    "    n_bedroom = data[:, 1]\n",
    "    price = data[:, 2]\n",
    "    \n",
    "    area_mean, area_std = get_mean_and_std(area)\n",
    "    n_mean, n_std = get_mean_and_std(n_bedroom)\n",
    "    price_mean, price_std = get_mean_and_std(price)\n",
    "    \n",
    "\n",
    "    \n",
    "    area = normalization(area, area_mean, area_std)\n",
    "    n_bedroom = normalization(n_bedroom, n_mean, n_std)\n",
    "    price = normalization(price, price_mean, price_std)\n",
    "    \n",
    "    print(area)\n",
    "     \n",
    "    new_data = np.array([area, n_bedroom, price]).T\n",
    "    np.savetxt(fname=\"try_\"+data_path , X = new_data, newline=\"\\n\", delimiter=\",\", fmt=\"%8f\")\n",
    "    \n",
    "    # store the values used for normalization\n",
    "    f = open(\"mean_std.pk\", \"wb\")\n",
    "    pickle.dump({'area':{'mean': area_mean, 'std': area_std},\n",
    "                 'n_bedroom':{'mean': n_mean, 'std': n_std},\n",
    "                 'price':{'mean': price_mean, 'std': price_std},\n",
    "                 },\n",
    "                f)\n",
    "    f.close()\n",
    "    \n",
    "\n"
   ]
  },
  {
   "cell_type": "code",
   "execution_count": 78,
   "id": "fatal-arena",
   "metadata": {},
   "outputs": [
    {
     "name": "stdout",
     "output_type": "stream",
     "text": [
      "[[1 1 1]\n",
      " [2 2 2]\n",
      " [3 3 3]\n",
      " [4 4 4]\n",
      " [5 5 5]\n",
      " [6 6 6]]\n"
     ]
    }
   ],
   "source": [
    "array = np.genfromtxt(\"housing.txt\", delimiter=\",\", dtype=\"int\")\n",
    "array = np.array([[1,2,3,4,5,6],\n",
    "             [1,2,3,4,5,6],\n",
    "             [1,2,3,4,5,6]])\n",
    "np.savetxt(fname=\"try.txt\", X = array, newline=\"\\n\", delimiter=\",\")\n",
    "\n",
    "print(array.T)"
   ]
  },
  {
   "cell_type": "code",
   "execution_count": 84,
   "id": "distinct-secretariat",
   "metadata": {},
   "outputs": [
    {
     "name": "stdout",
     "output_type": "stream",
     "text": [
      "[ 1.31415422e-01 -5.09640698e-01  5.07908699e-01 -7.43677059e-01\n",
      "  1.27107075e+00 -1.99450507e-02 -5.93588523e-01 -7.29685755e-01\n",
      " -7.89466782e-01 -6.44465993e-01 -7.71822042e-02 -8.65999486e-04\n",
      " -1.40779041e-01  3.15099326e+00 -9.31923697e-01  3.80715024e-01\n",
      " -8.65782986e-01 -9.72625673e-01  7.73743478e-01  1.31050078e+00\n",
      " -2.97227261e-01 -1.43322915e-01 -5.04552951e-01 -4.91995958e-02\n",
      "  2.40309445e+00 -1.14560907e+00 -6.90255715e-01  6.68172729e-01\n",
      "  2.53521350e-01  8.09357707e-01 -2.05647815e-01 -1.27280274e+00\n",
      "  5.00114703e-02  1.44532608e+00 -2.41262044e-01 -7.16966387e-01\n",
      " -9.68809863e-01  1.67029651e-01  2.81647389e+00  2.05187753e-01\n",
      " -4.28236746e-01  3.01854946e-01  7.20322135e-01 -1.01841540e+00\n",
      " -1.46104938e+00 -1.89112638e-01 -1.01459959e+00]\n"
     ]
    }
   ],
   "source": [
    "proc_data('housing.txt')"
   ]
  }
 ],
 "metadata": {
  "kernelspec": {
   "display_name": "Python 3",
   "language": "python",
   "name": "python3"
  },
  "language_info": {
   "codemirror_mode": {
    "name": "ipython",
    "version": 3
   },
   "file_extension": ".py",
   "mimetype": "text/x-python",
   "name": "python",
   "nbconvert_exporter": "python",
   "pygments_lexer": "ipython3",
   "version": "3.8.5"
  }
 },
 "nbformat": 4,
 "nbformat_minor": 5
}
