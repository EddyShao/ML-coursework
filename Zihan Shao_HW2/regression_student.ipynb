{
 "cells": [
  {
   "cell_type": "markdown",
   "id": "alike-satellite",
   "metadata": {},
   "source": [
    "## 3.2 Gradient Descent"
   ]
  },
  {
   "cell_type": "markdown",
   "id": "expanded-arcade",
   "metadata": {},
   "source": [
    "Loss function $$J(w) = \\frac{1}{n} \\sum \\limits_{i=1} ^{n} (y^{i}-\\hat{y^{i}}) $$\n",
    "where n is the number of samples, $y^{i}$ are the observed values, $\\hat{y^{i}}$ are the predicted values"
   ]
  },
  {
   "cell_type": "code",
   "execution_count": 1,
   "id": "elegant-prototype",
   "metadata": {},
   "outputs": [],
   "source": [
    "import pickle\n",
    "import matplotlib.pylab as plt\n",
    "import pandas as pd\n",
    "import numpy as np"
   ]
  },
  {
   "cell_type": "code",
   "execution_count": 2,
   "id": "handled-isaac",
   "metadata": {},
   "outputs": [],
   "source": [
    "## load data\n",
    "def load_data():\n",
    "    df = pd.read_csv('normalized.txt', header=None)\n",
    "    df.columns = ['area', 'bdrm', 'price']\n",
    "    df ['intercept'] = 1\n",
    "    X = df[['intercept', 'area', 'bdrm']].values\n",
    "    y = df['price'].values\n",
    "    return X, y"
   ]
  },
  {
   "cell_type": "code",
   "execution_count": 3,
   "id": "widespread-orlando",
   "metadata": {},
   "outputs": [],
   "source": [
    "def compute_error(pred, truth):\n",
    "    # compute the mean squared error\n",
    "    ## to do]\n",
    "    \n",
    "    return ((pred - truth).T@(pred - truth))/(len(truth))"
   ]
  },
  {
   "cell_type": "code",
   "execution_count": 4,
   "id": "flying-programmer",
   "metadata": {},
   "outputs": [],
   "source": [
    "def compute_grad(X, y, w):\n",
    "    # compute the gradient\n",
    "    ## to do\n",
    "    ### Since in this particular case there are only two features\n",
    "    # y = y[:, None]\n",
    "    n = X.shape[0]\n",
    "    gradient = - (2/n)*(X.T)@(y - X@w) \n",
    "    \n",
    "    return gradient"
   ]
  },
  {
   "cell_type": "code",
   "execution_count": 5,
   "id": "greenhouse-gothic",
   "metadata": {},
   "outputs": [],
   "source": [
    "## training with gradient descent\n",
    "def train(X, y, learning_rate, max_num_iter=1000):\n",
    "    \"\"\"\n",
    "    write a function which apply Gradient descent to estimate parameter w\n",
    "    Please also record the mean squared error in the iteration process and save it to error history\n",
    "    \"\"\"\n",
    "    num_dim = X.shape[1]\n",
    "    error_history = []\n",
    "    \n",
    "    # initialize w\n",
    "    w = np.zeros((num_dim, 1), dtype=np.float32)\n",
    "    \n",
    "    # ensure dimension is 2-dim\n",
    "    y = y.reshape(y.shape[0], 1)\n",
    "    \n",
    "    for steps in range(max_num_iter):\n",
    "        # compute gradient descent over all training examples\n",
    "        # perform gradient descent (vector update)\n",
    "        # get predictions\n",
    "        # compute MSE and add it into error_history \n",
    "        ## to do\n",
    "        # w -= learning_rate*compute_grad(X, y, w)\n",
    "        predictions = X@w\n",
    "        error = compute_error(predictions, y)[0,0]\n",
    "        error_history.append(error)\n",
    "        w -= learning_rate*compute_grad(X, y, w)\n",
    "    \n",
    "    return w, error_history"
   ]
  },
  {
   "cell_type": "code",
   "execution_count": 6,
   "id": "threatened-symposium",
   "metadata": {},
   "outputs": [],
   "source": [
    "## fit regression model and plot the SSE vs. number of iterations\n",
    "X, y = load_data()\n",
    "trained_w, error_history = train(X, y, learning_rate=0.3)\n",
    "## to do"
   ]
  },
  {
   "cell_type": "markdown",
   "id": "chinese-growth",
   "metadata": {},
   "source": [
    "\n",
    "\n",
    "## 3.3 Make prediction based on the linear regression model you get"
   ]
  },
  {
   "cell_type": "code",
   "execution_count": 7,
   "id": "dried-vinyl",
   "metadata": {},
   "outputs": [],
   "source": [
    "# get the values used for normalization\n",
    "f = open('mean_std.pk', 'rb')\n",
    "norm_params = pickle.load(f)\n",
    "l, b, p = norm_params['area'], norm_params['n_bedroom'], norm_params['price']\n",
    "f.close()"
   ]
  },
  {
   "cell_type": "code",
   "execution_count": 8,
   "id": "important-symposium",
   "metadata": {},
   "outputs": [
    {
     "name": "stdout",
     "output_type": "stream",
     "text": [
      "The w is [[-6.1525851e-09]\n",
      " [ 8.8476592e-01]\n",
      " [-5.3178787e-02]], and pred_price is 493159.44818594644\n",
      "\n"
     ]
    }
   ],
   "source": [
    "# first normalize the features and then make predictions\n",
    "## to do\n",
    "X, y = load_data()\n",
    "area = (3150 - l[\"mean\"])/l[\"std\"]\n",
    "bedroom = (4 - b[\"mean\"])/b[\"std\"]\n",
    "features = np.array([[1, area, bedroom]])\n",
    "predictions = features@trained_w\n",
    "pred_price = predictions*p[\"std\"] + p[\"mean\"]\n",
    " \n",
    "# print out the predicted value\n",
    "print(\"The w is {}, and pred_price is {}\\n\".format(trained_w, pred_price[0,0]))"
   ]
  }
 ],
 "metadata": {
  "kernelspec": {
   "display_name": "Python 3",
   "language": "python",
   "name": "python3"
  },
  "language_info": {
   "codemirror_mode": {
    "name": "ipython",
    "version": 3
   },
   "file_extension": ".py",
   "mimetype": "text/x-python",
   "name": "python",
   "nbconvert_exporter": "python",
   "pygments_lexer": "ipython3",
   "version": "3.8.5"
  }
 },
 "nbformat": 4,
 "nbformat_minor": 5
}
