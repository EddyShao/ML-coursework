{
 "cells": [
  {
   "cell_type": "markdown",
   "id": "selected-score",
   "metadata": {},
   "source": [
    "## 3.1 Normalizing features"
   ]
  },
  {
   "cell_type": "code",
   "execution_count": 1,
   "id": "desperate-gender",
   "metadata": {},
   "outputs": [],
   "source": [
    "import pickle\n",
    "import pandas as pd\n",
    "import numpy as np"
   ]
  },
  {
   "cell_type": "code",
   "execution_count": 2,
   "id": "copyrighted-cooperation",
   "metadata": {},
   "outputs": [],
   "source": [
    "def get_mean(x):\n",
    "    return sum(x)/len(x)"
   ]
  },
  {
   "cell_type": "code",
   "execution_count": 3,
   "id": "returning-hundred",
   "metadata": {},
   "outputs": [],
   "source": [
    "def get_std(x, mean):\n",
    "    return ( (x-mean).dot(x-mean) / len(x) )**0.5"
   ]
  },
  {
   "cell_type": "code",
   "execution_count": 4,
   "id": "expired-dispatch",
   "metadata": {},
   "outputs": [],
   "source": [
    "def get_mean_and_std(x):\n",
    "    mean = get_mean(x)\n",
    "    std = get_std(x, mean)\n",
    "    return mean, std"
   ]
  },
  {
   "cell_type": "code",
   "execution_count": 5,
   "id": "selected-majority",
   "metadata": {},
   "outputs": [],
   "source": [
    "def normalization(x, mean, std):\n",
    "    return ( x - mean )/std"
   ]
  },
  {
   "cell_type": "code",
   "execution_count": 6,
   "id": "promotional-delay",
   "metadata": {},
   "outputs": [],
   "source": [
    "def proc_data(data_path):\n",
    "    \"\"\"\n",
    "    standardize the housing data and output it to an external file 'normalized.txt'\n",
    "    \"\"\"\n",
    "    # standardize the housing data, save the normalized data to 'normalized.txt'\n",
    "    ## to do\n",
    "    data = np.genfromtxt(data_path, delimiter=\",\", dtype=\"int\")\n",
    "    \n",
    "    area = data[:, 0]\n",
    "    n_bedroom = data[:, 1]\n",
    "    price = data[:, 2]\n",
    "    \n",
    "    area_mean, area_std = get_mean_and_std(area)\n",
    "    n_mean, n_std = get_mean_and_std(n_bedroom)\n",
    "    price_mean, price_std = get_mean_and_std(price)\n",
    "    \n",
    "\n",
    "    \n",
    "    area = normalization(area, area_mean, area_std)\n",
    "    n_bedroom = normalization(n_bedroom, n_mean, n_std)\n",
    "    price = normalization(price, price_mean, price_std)\n",
    "    \n",
    "    new_data = np.array([area, n_bedroom, price], dtype=np.float32).T\n",
    "    np.savetxt(fname=\"normalized.txt\" , X = new_data, newline=\"\\n\", delimiter=\",\")\n",
    "    \n",
    "    # store the values used for normalization\n",
    "    f = open(\"mean_std.pk\", \"wb\")\n",
    "    pickle.dump({'area':{'mean': area_mean, 'std': area_std},\n",
    "                 'n_bedroom':{'mean': n_mean, 'std': n_std},\n",
    "                 'price':{'mean': price_mean, 'std': price_std},\n",
    "                 },\n",
    "                f)\n",
    "    f.close()"
   ]
  },
  {
   "cell_type": "code",
   "execution_count": 7,
   "id": "distinct-secretariat",
   "metadata": {},
   "outputs": [],
   "source": [
    "proc_data('housing.txt')"
   ]
  },
  {
   "cell_type": "code",
   "execution_count": null,
   "id": "accepting-necklace",
   "metadata": {},
   "outputs": [],
   "source": []
  }
 ],
 "metadata": {
  "kernelspec": {
   "display_name": "Python 3",
   "language": "python",
   "name": "python3"
  },
  "language_info": {
   "codemirror_mode": {
    "name": "ipython",
    "version": 3
   },
   "file_extension": ".py",
   "mimetype": "text/x-python",
   "name": "python",
   "nbconvert_exporter": "python",
   "pygments_lexer": "ipython3",
   "version": "3.8.5"
  }
 },
 "nbformat": 4,
 "nbformat_minor": 5
}
