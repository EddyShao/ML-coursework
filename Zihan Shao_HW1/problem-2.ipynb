{
 "cells": [
  {
   "cell_type": "markdown",
   "id": "floating-racing",
   "metadata": {},
   "source": [
    "# KNN for Iris flowers classification"
   ]
  },
  {
   "cell_type": "code",
   "execution_count": 1,
   "id": "settled-thriller",
   "metadata": {},
   "outputs": [],
   "source": [
    "# import modules\n",
    "import matplotlib.pyplot as plt\n",
    "import numpy as np \n",
    "from sklearn.neighbors import KNeighborsClassifier\n",
    "from sklearn import datasets as ds\n",
    "from sklearn.model_selection import train_test_split"
   ]
  },
  {
   "cell_type": "code",
   "execution_count": 2,
   "id": "entertaining-healing",
   "metadata": {},
   "outputs": [],
   "source": [
    "# load iris dataset\n",
    "iris = ds.load_iris()"
   ]
  },
  {
   "cell_type": "code",
   "execution_count": 3,
   "id": "close-invention",
   "metadata": {},
   "outputs": [],
   "source": [
    "# assign iris features to X, an array of shape (150,4)\n",
    "# assign iris labels to y, an array of shape (150,)\n",
    "X = iris['data']\n",
    "y = iris['target']"
   ]
  },
  {
   "cell_type": "code",
   "execution_count": 4,
   "id": "experimental-blackberry",
   "metadata": {},
   "outputs": [
    {
     "name": "stdout",
     "output_type": "stream",
     "text": [
      "[[5.1 3.5 1.4 0.2]\n",
      " [4.9 3.  1.4 0.2]\n",
      " [4.7 3.2 1.3 0.2]\n",
      " [4.6 3.1 1.5 0.2]\n",
      " [5.  3.6 1.4 0.2]\n",
      " [5.4 3.9 1.7 0.4]\n",
      " [4.6 3.4 1.4 0.3]\n",
      " [5.  3.4 1.5 0.2]\n",
      " [4.4 2.9 1.4 0.2]\n",
      " [4.9 3.1 1.5 0.1]\n",
      " [5.4 3.7 1.5 0.2]\n",
      " [4.8 3.4 1.6 0.2]\n",
      " [4.8 3.  1.4 0.1]\n",
      " [4.3 3.  1.1 0.1]\n",
      " [5.8 4.  1.2 0.2]\n",
      " [5.7 4.4 1.5 0.4]\n",
      " [5.4 3.9 1.3 0.4]\n",
      " [5.1 3.5 1.4 0.3]\n",
      " [5.7 3.8 1.7 0.3]\n",
      " [5.1 3.8 1.5 0.3]\n",
      " [5.4 3.4 1.7 0.2]\n",
      " [5.1 3.7 1.5 0.4]\n",
      " [4.6 3.6 1.  0.2]\n",
      " [5.1 3.3 1.7 0.5]\n",
      " [4.8 3.4 1.9 0.2]\n",
      " [5.  3.  1.6 0.2]\n",
      " [5.  3.4 1.6 0.4]\n",
      " [5.2 3.5 1.5 0.2]\n",
      " [5.2 3.4 1.4 0.2]\n",
      " [4.7 3.2 1.6 0.2]\n",
      " [4.8 3.1 1.6 0.2]\n",
      " [5.4 3.4 1.5 0.4]\n",
      " [5.2 4.1 1.5 0.1]\n",
      " [5.5 4.2 1.4 0.2]\n",
      " [4.9 3.1 1.5 0.2]\n",
      " [5.  3.2 1.2 0.2]\n",
      " [5.5 3.5 1.3 0.2]\n",
      " [4.9 3.6 1.4 0.1]\n",
      " [4.4 3.  1.3 0.2]\n",
      " [5.1 3.4 1.5 0.2]\n",
      " [5.  3.5 1.3 0.3]\n",
      " [4.5 2.3 1.3 0.3]\n",
      " [4.4 3.2 1.3 0.2]\n",
      " [5.  3.5 1.6 0.6]\n",
      " [5.1 3.8 1.9 0.4]\n",
      " [4.8 3.  1.4 0.3]\n",
      " [5.1 3.8 1.6 0.2]\n",
      " [4.6 3.2 1.4 0.2]\n",
      " [5.3 3.7 1.5 0.2]\n",
      " [5.  3.3 1.4 0.2]\n",
      " [7.  3.2 4.7 1.4]\n",
      " [6.4 3.2 4.5 1.5]\n",
      " [6.9 3.1 4.9 1.5]\n",
      " [5.5 2.3 4.  1.3]\n",
      " [6.5 2.8 4.6 1.5]\n",
      " [5.7 2.8 4.5 1.3]\n",
      " [6.3 3.3 4.7 1.6]\n",
      " [4.9 2.4 3.3 1. ]\n",
      " [6.6 2.9 4.6 1.3]\n",
      " [5.2 2.7 3.9 1.4]\n",
      " [5.  2.  3.5 1. ]\n",
      " [5.9 3.  4.2 1.5]\n",
      " [6.  2.2 4.  1. ]\n",
      " [6.1 2.9 4.7 1.4]\n",
      " [5.6 2.9 3.6 1.3]\n",
      " [6.7 3.1 4.4 1.4]\n",
      " [5.6 3.  4.5 1.5]\n",
      " [5.8 2.7 4.1 1. ]\n",
      " [6.2 2.2 4.5 1.5]\n",
      " [5.6 2.5 3.9 1.1]\n",
      " [5.9 3.2 4.8 1.8]\n",
      " [6.1 2.8 4.  1.3]\n",
      " [6.3 2.5 4.9 1.5]\n",
      " [6.1 2.8 4.7 1.2]\n",
      " [6.4 2.9 4.3 1.3]\n",
      " [6.6 3.  4.4 1.4]\n",
      " [6.8 2.8 4.8 1.4]\n",
      " [6.7 3.  5.  1.7]\n",
      " [6.  2.9 4.5 1.5]\n",
      " [5.7 2.6 3.5 1. ]\n",
      " [5.5 2.4 3.8 1.1]\n",
      " [5.5 2.4 3.7 1. ]\n",
      " [5.8 2.7 3.9 1.2]\n",
      " [6.  2.7 5.1 1.6]\n",
      " [5.4 3.  4.5 1.5]\n",
      " [6.  3.4 4.5 1.6]\n",
      " [6.7 3.1 4.7 1.5]\n",
      " [6.3 2.3 4.4 1.3]\n",
      " [5.6 3.  4.1 1.3]\n",
      " [5.5 2.5 4.  1.3]\n",
      " [5.5 2.6 4.4 1.2]\n",
      " [6.1 3.  4.6 1.4]\n",
      " [5.8 2.6 4.  1.2]\n",
      " [5.  2.3 3.3 1. ]\n",
      " [5.6 2.7 4.2 1.3]\n",
      " [5.7 3.  4.2 1.2]\n",
      " [5.7 2.9 4.2 1.3]\n",
      " [6.2 2.9 4.3 1.3]\n",
      " [5.1 2.5 3.  1.1]\n",
      " [5.7 2.8 4.1 1.3]\n",
      " [6.3 3.3 6.  2.5]\n",
      " [5.8 2.7 5.1 1.9]\n",
      " [7.1 3.  5.9 2.1]\n",
      " [6.3 2.9 5.6 1.8]\n",
      " [6.5 3.  5.8 2.2]\n",
      " [7.6 3.  6.6 2.1]\n",
      " [4.9 2.5 4.5 1.7]\n",
      " [7.3 2.9 6.3 1.8]\n",
      " [6.7 2.5 5.8 1.8]\n",
      " [7.2 3.6 6.1 2.5]\n",
      " [6.5 3.2 5.1 2. ]\n",
      " [6.4 2.7 5.3 1.9]\n",
      " [6.8 3.  5.5 2.1]\n",
      " [5.7 2.5 5.  2. ]\n",
      " [5.8 2.8 5.1 2.4]\n",
      " [6.4 3.2 5.3 2.3]\n",
      " [6.5 3.  5.5 1.8]\n",
      " [7.7 3.8 6.7 2.2]\n",
      " [7.7 2.6 6.9 2.3]\n",
      " [6.  2.2 5.  1.5]\n",
      " [6.9 3.2 5.7 2.3]\n",
      " [5.6 2.8 4.9 2. ]\n",
      " [7.7 2.8 6.7 2. ]\n",
      " [6.3 2.7 4.9 1.8]\n",
      " [6.7 3.3 5.7 2.1]\n",
      " [7.2 3.2 6.  1.8]\n",
      " [6.2 2.8 4.8 1.8]\n",
      " [6.1 3.  4.9 1.8]\n",
      " [6.4 2.8 5.6 2.1]\n",
      " [7.2 3.  5.8 1.6]\n",
      " [7.4 2.8 6.1 1.9]\n",
      " [7.9 3.8 6.4 2. ]\n",
      " [6.4 2.8 5.6 2.2]\n",
      " [6.3 2.8 5.1 1.5]\n",
      " [6.1 2.6 5.6 1.4]\n",
      " [7.7 3.  6.1 2.3]\n",
      " [6.3 3.4 5.6 2.4]\n",
      " [6.4 3.1 5.5 1.8]\n",
      " [6.  3.  4.8 1.8]\n",
      " [6.9 3.1 5.4 2.1]\n",
      " [6.7 3.1 5.6 2.4]\n",
      " [6.9 3.1 5.1 2.3]\n",
      " [5.8 2.7 5.1 1.9]\n",
      " [6.8 3.2 5.9 2.3]\n",
      " [6.7 3.3 5.7 2.5]\n",
      " [6.7 3.  5.2 2.3]\n",
      " [6.3 2.5 5.  1.9]\n",
      " [6.5 3.  5.2 2. ]\n",
      " [6.2 3.4 5.4 2.3]\n",
      " [5.9 3.  5.1 1.8]]\n"
     ]
    }
   ],
   "source": [
    "print(X)"
   ]
  },
  {
   "cell_type": "markdown",
   "id": "solar-pricing",
   "metadata": {},
   "source": [
    "## (a) calculate elements in each class"
   ]
  },
  {
   "cell_type": "code",
   "execution_count": 5,
   "id": "technological-particle",
   "metadata": {},
   "outputs": [
    {
     "name": "stdout",
     "output_type": "stream",
     "text": [
      "There are 50 elements in class target= 0\n",
      "There are 50 elements in class target= 1\n",
      "There are 50 elements in class target= 2\n"
     ]
    }
   ],
   "source": [
    "# calculate elements in each class\n",
    "# print out the result\n",
    "## to do\n",
    "result = [0]*3\n",
    "for target in y:\n",
    "    result[target] += 1\n",
    "for i in range(3):\n",
    "    print(\"There are\", result[i], \"elements in class target=\", i)"
   ]
  },
  {
   "cell_type": "markdown",
   "id": "bigger-fitting",
   "metadata": {},
   "source": [
    "## (b) build a KNeighborsClassifier with k=1"
   ]
  },
  {
   "cell_type": "code",
   "execution_count": 6,
   "id": "optical-niger",
   "metadata": {},
   "outputs": [
    {
     "data": {
      "text/plain": [
       "KNeighborsClassifier(n_neighbors=1)"
      ]
     },
     "execution_count": 6,
     "metadata": {},
     "output_type": "execute_result"
    }
   ],
   "source": [
    "# initialize the knn model\n",
    "model_knn = KNeighborsClassifier(n_neighbors=1)\n",
    "model_knn.fit(X,y)"
   ]
  },
  {
   "cell_type": "code",
   "execution_count": 7,
   "id": "joined-stanford",
   "metadata": {},
   "outputs": [
    {
     "name": "stdout",
     "output_type": "stream",
     "text": [
      "The accuaracy is 100.0 %\n"
     ]
    }
   ],
   "source": [
    "# calculate prediction accuracy\n",
    "# print out the accuracy\n",
    "## to do\n",
    "outcome = model_knn.predict(X)\n",
    "\n",
    "def accuracy(predict_outcome, train_outcome):\n",
    "    error = 0\n",
    "    total = len(predict_outcome)\n",
    "    for i in range(total):\n",
    "        if predict_outcome[i] != train_outcome[i]:\n",
    "            error += 1\n",
    "    \n",
    "    return (1 - error/total)*100\n",
    "\n",
    "print(\"The accuaracy is\", accuracy(outcome, y), \"%\")\n",
    "  "
   ]
  },
  {
   "cell_type": "markdown",
   "id": "metallic-holiday",
   "metadata": {},
   "source": [
    "## (c) find optimal value of k"
   ]
  },
  {
   "cell_type": "code",
   "execution_count": 8,
   "id": "extreme-titanium",
   "metadata": {},
   "outputs": [],
   "source": [
    "# split the dataset into training and test\n",
    "X_train, X_test, y_train, y_test = train_test_split(X, y, test_size=0.5, shuffle=True, random_state=0)"
   ]
  },
  {
   "cell_type": "code",
   "execution_count": 9,
   "id": "needed-challenge",
   "metadata": {},
   "outputs": [
    {
     "name": "stdout",
     "output_type": "stream",
     "text": [
      "[90.66666667 89.33333333 93.33333333 92.         96.         93.33333333\n",
      " 96.         94.66666667 97.33333333 94.66666667 94.66666667 93.33333333\n",
      " 93.33333333 93.33333333 93.33333333 92.         92.         92.\n",
      " 90.66666667 89.33333333 92.         90.66666667 90.66666667 90.66666667\n",
      " 92.         90.66666667 90.66666667 90.66666667 88.         88.\n",
      " 86.66666667 86.66666667 88.         88.         88.         88.\n",
      " 82.66666667 86.66666667 86.66666667 85.33333333 77.33333333 72.\n",
      " 70.66666667 70.66666667 69.33333333 69.33333333 69.33333333 69.33333333\n",
      " 69.33333333 69.33333333]\n"
     ]
    }
   ],
   "source": [
    "# try different value of k from 1 to 50\n",
    "K = 50\n",
    "train_accu = np.zeros(50)\n",
    "test_accu = np.zeros(50)\n",
    "for i in range(1,K+1):\n",
    "    # initialize the model\n",
    "    # fit the data\n",
    "    # store training accuracy in train_accu\n",
    "    # store validation accuracy in test_acc\n",
    "    ## to do\n",
    "    k_model = KNeighborsClassifier(n_neighbors=i)\n",
    "    k_model.fit(X_train, y_train)\n",
    "    train_accu[i-1] = accuracy(k_model.predict(X_train), y_train)\n",
    "    test_accu[i-1] = accuracy(k_model.predict(X_test), y_test)\n",
    "\n",
    "print(test_accu)\n"
   ]
  },
  {
   "cell_type": "code",
   "execution_count": 10,
   "id": "velvet-division",
   "metadata": {},
   "outputs": [
    {
     "data": {
      "text/plain": [
       "<matplotlib.legend.Legend at 0x7fa30de94550>"
      ]
     },
     "execution_count": 10,
     "metadata": {},
     "output_type": "execute_result"
    },
    {
     "data": {
      "image/png": "[encoded data removed]",
      "text/plain": [
       "<Figure size 432x288 with 1 Axes>"
      ]
     },
     "metadata": {
      "needs_background": "light"
     },
     "output_type": "display_data"
    }
   ],
   "source": [
    "# plot the training accuracy and test accuracy against k\n",
    "plt.figure()\n",
    "plt.xlabel('k')\n",
    "plt.ylabel('Accuracy (%)')\n",
    "x_range = np.linspace(1, K, num=K)\n",
    "plt.plot(x_range, train_accu, label='training')\n",
    "plt.plot(x_range, test_accu, label='test')\n",
    "plt.legend()"
   ]
  },
  {
   "cell_type": "code",
   "execution_count": 11,
   "id": "alternate-surfing",
   "metadata": {},
   "outputs": [
    {
     "name": "stdout",
     "output_type": "stream",
     "text": [
      "The optimal k value is 9\n"
     ]
    }
   ],
   "source": [
    "# find the optimal k value\n",
    "# print out the optimal k\n",
    "## to do\n",
    "optimal_k = test_accu.argmax() + 1\n",
    "print(\"The optimal k value is\", optimal_k)"
   ]
  },
  {
   "cell_type": "markdown",
   "id": "virgin-roots",
   "metadata": {},
   "source": [
    "## (d) predict a new sample"
   ]
  },
  {
   "cell_type": "code",
   "execution_count": 12,
   "id": "tribal-allah",
   "metadata": {},
   "outputs": [
    {
     "data": {
      "text/plain": [
       "['sepal length (cm)',\n",
       " 'sepal width (cm)',\n",
       " 'petal length (cm)',\n",
       " 'petal width (cm)']"
      ]
     },
     "execution_count": 12,
     "metadata": {},
     "output_type": "execute_result"
    }
   ],
   "source": [
    "# check the order of the features\n",
    "iris['feature_names']"
   ]
  },
  {
   "cell_type": "code",
   "execution_count": 13,
   "id": "motivated-broad",
   "metadata": {},
   "outputs": [],
   "source": [
    "# match the input values with the feature names\n",
    "## to do\n",
    "new_sample = np.array([[3.8, 5.0, 1.2, 4.1]])"
   ]
  },
  {
   "cell_type": "code",
   "execution_count": 14,
   "id": "governmental-coach",
   "metadata": {},
   "outputs": [
    {
     "name": "stdout",
     "output_type": "stream",
     "text": [
      "The prediction result is 0 , which represents setosa\n"
     ]
    }
   ],
   "source": [
    "# make prediction\n",
    "# print out the prediction result\n",
    "## to do\n",
    "k_model = KNeighborsClassifier(n_neighbors=9)\n",
    "k_model.fit(X_train, y_train)\n",
    "prediction = k_model.predict(new_sample)\n",
    "print(\"The prediction result is\", prediction[0], \", which represents\", iris[\"target_names\"][prediction[0]])"
   ]
  },
  {
   "cell_type": "code",
   "execution_count": null,
   "id": "alert-typing",
   "metadata": {},
   "outputs": [],
   "source": []
  }
 ],
 "metadata": {
  "kernelspec": {
   "display_name": "Python 3",
   "language": "python",
   "name": "python3"
  },
  "language_info": {
   "codemirror_mode": {
    "name": "ipython",
    "version": 3
   },
   "file_extension": ".py",
   "mimetype": "text/x-python",
   "name": "python",
   "nbconvert_exporter": "python",
   "pygments_lexer": "ipython3",
   "version": "3.8.5"
  }
 },
 "nbformat": 4,
 "nbformat_minor": 5
}
